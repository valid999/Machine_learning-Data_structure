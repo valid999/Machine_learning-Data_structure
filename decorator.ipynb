{
 "cells": [
  {
   "cell_type": "code",
   "execution_count": null,
   "metadata": {},
   "outputs": [
    {
     "name": "stdout",
     "output_type": "stream",
     "text": [
      "Time: 0.0\n",
      "Time: 2.0054285526275635\n"
     ]
    }
   ],
   "source": [
    "# How the decorators is working \n",
    "import time \n",
    "def timer(func): \n",
    "    def wrapper(*arge , **kwargs): \n",
    "        start = time.time()\n",
    "        rv = func()\n",
    "        total = time.time() - start \n",
    "        print(\"Time:\", total)\n",
    "        return rv\n",
    "    return wrapper\n",
    "\n",
    "@timer \n",
    "def test1(): \n",
    "    for _ in range(10000): \n",
    "        pass \n",
    "@timer \n",
    "def test2(): \n",
    "    time.sleep(2)\n",
    "\n",
    "test1()\n",
    "test2()"
   ]
  },
  {
   "cell_type": "code",
   "execution_count": 7,
   "metadata": {},
   "outputs": [
    {
     "name": "stdout",
     "output_type": "stream",
     "text": [
      "Function 'say_hello' is being called\n",
      "Hello\n"
     ]
    }
   ],
   "source": [
    "# The Basics syntax of the decorator \n",
    "def decorator_function(orginal_function): \n",
    "    def wrapper_function(*args, **kwargs): \n",
    "        print(f\"Function '{orginal_function.__name__}' is being called\")\n",
    "        return orginal_function(*args, **kwargs) # Orginal function which means the say_hello\n",
    "    return wrapper_function \n",
    "\n",
    "@decorator_function \n",
    "def say_hello(): \n",
    "    print(\"Hello\")\n",
    "\n",
    "say_hello()"
   ]
  },
  {
   "cell_type": "code",
   "execution_count": 8,
   "metadata": {},
   "outputs": [
    {
     "name": "stdout",
     "output_type": "stream",
     "text": [
      "Calling add with arguments (3, 5) and {}\n",
      "add returned 8\n"
     ]
    },
    {
     "data": {
      "text/plain": [
       "8"
      ]
     },
     "execution_count": 8,
     "metadata": {},
     "output_type": "execute_result"
    }
   ],
   "source": [
    "def log_decorator(func): \n",
    "    def wrapper(*args, **kwargs): \n",
    "        print(f\"Calling {func.__name__} with arguments {args} and {kwargs}\")\n",
    "        result = func(*args, **kwargs)\n",
    "        print(f\"{func.__name__} returned {result}\")\n",
    "        return result \n",
    "    return wrapper \n",
    "\n",
    "\n",
    "\n",
    "@log_decorator\n",
    "def add(a, b): \n",
    "    return a + b \n",
    "\n",
    "add(3, 5)"
   ]
  },
  {
   "cell_type": "code",
   "execution_count": 12,
   "metadata": {},
   "outputs": [
    {
     "name": "stdout",
     "output_type": "stream",
     "text": [
      "Finished!\n",
      "slow_function took 2.0006 seconds\n"
     ]
    }
   ],
   "source": [
    "# Timing Decorator \n",
    "\n",
    "\n",
    "import time \n",
    "\n",
    "def timing_decorator(func): \n",
    "    def wrapper(*args, **kwargs): \n",
    "        start_time  = time.time()\n",
    "        result = func(*args, **kwargs)\n",
    "        end_time = time.time()\n",
    "        print(f\"{func.__name__} took {end_time - start_time:.4f} seconds\")\n",
    "        return result \n",
    "    return wrapper\n",
    "\n",
    "@timing_decorator\n",
    "def slow_function(): \n",
    "    time.sleep(2)\n",
    "    print(\"Finished!\")\n",
    "slow_function()"
   ]
  },
  {
   "cell_type": "code",
   "execution_count": 16,
   "metadata": {},
   "outputs": [
    {
     "name": "stdout",
     "output_type": "stream",
     "text": [
      "Access denied!\n",
      "Welcome, admin!\n"
     ]
    }
   ],
   "source": [
    "# Authorization Decorator \n",
    "\n",
    "def authorize_user(func): \n",
    "    def wrapper(user, *args, **kwargs): \n",
    "        if user != \"admin\": \n",
    "            print(\"Access denied!\")\n",
    "            return \n",
    "        return func(user, *args, **kwargs)\n",
    "    return wrapper\n",
    "\n",
    "@authorize_user\n",
    "def view_dashboard(user): \n",
    "    print(f\"Welcome, {user}!\")\n",
    "\n",
    "\n",
    "view_dashboard(\"guest\")  # Access denied \n",
    "view_dashboard(\"admin\")  # Welcome, admin!"
   ]
  },
  {
   "cell_type": "code",
   "execution_count": 17,
   "metadata": {},
   "outputs": [
    {
     "name": "stdout",
     "output_type": "stream",
     "text": [
      "decorator One\n",
      "decorator two\n",
      "Hello!\n"
     ]
    }
   ],
   "source": [
    "# Chaining multiple Decorators \n",
    "\n",
    "def decorator_one(func): \n",
    "    def wrapper(*args, **kwargs): \n",
    "        print(\"decorator One\")\n",
    "        return func(*args, **kwargs)\n",
    "    return wrapper \n",
    "\n",
    "def decorator_two(func): \n",
    "    def wrapper(*args, **kwargs): \n",
    "        print(\"decorator two\")\n",
    "        return func(*args, **kwargs)\n",
    "    return wrapper \n",
    "@decorator_one\n",
    "@decorator_two\n",
    "def say_hello():\n",
    "    print(\"Hello!\")\n",
    "\n",
    "say_hello()"
   ]
  },
  {
   "cell_type": "code",
   "execution_count": 21,
   "metadata": {},
   "outputs": [
    {
     "name": "stdout",
     "output_type": "stream",
     "text": [
      "Hello!\n",
      "Hello!\n",
      "Hello!\n"
     ]
    }
   ],
   "source": [
    "# Decorator with Arguments \n",
    "# If you wnat to pass arguments to a decorator to a decorator, you need to wrap it in another function. \n",
    "\n",
    "\n",
    "def repeat(n): \n",
    "        def decorator(func): \n",
    "            def wrapper(*args, **kwargs): \n",
    "                for _ in range(n): \n",
    "                    func(*args , **kwargs)\n",
    "            return wrapper\n",
    "        return decorator\n",
    "\n",
    "@repeat(3)\n",
    "def greet(): \n",
    "    print(\"Hello!\")\n",
    "\n",
    "greet()\n"
   ]
  },
  {
   "cell_type": "code",
   "execution_count": 24,
   "metadata": {},
   "outputs": [
    {
     "name": "stdout",
     "output_type": "stream",
     "text": [
      "78.5\n"
     ]
    }
   ],
   "source": [
    "class Circle: \n",
    "    def __init__(self, radius): \n",
    "        self.radius  = radius \n",
    "        \n",
    "    @property \n",
    "    def area(self): \n",
    "        return 3.14 * self.radius ** 2\n",
    "\n",
    "circle = Circle(5)\n",
    "print(circle.area)"
   ]
  },
  {
   "cell_type": "code",
   "execution_count": null,
   "metadata": {},
   "outputs": [],
   "source": []
  }
 ],
 "metadata": {
  "kernelspec": {
   "display_name": "Yolo_object",
   "language": "python",
   "name": "python3"
  },
  "language_info": {
   "codemirror_mode": {
    "name": "ipython",
    "version": 3
   },
   "file_extension": ".py",
   "mimetype": "text/x-python",
   "name": "python",
   "nbconvert_exporter": "python",
   "pygments_lexer": "ipython3",
   "version": "3.9.18"
  }
 },
 "nbformat": 4,
 "nbformat_minor": 2
}
