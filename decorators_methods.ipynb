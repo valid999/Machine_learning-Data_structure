{
 "cells": [
  {
   "cell_type": "code",
   "execution_count": 1,
   "metadata": {},
   "outputs": [
    {
     "name": "stdout",
     "output_type": "stream",
     "text": [
      "Accuracy: 0.80\n"
     ]
    }
   ],
   "source": [
    "#  1. @staticmethod \n",
    "class MachinelearningModel: \n",
    "    @staticmethod \n",
    "    def calculate_accuracy(y_true, y_pred): \n",
    "        correct = sum(1 for t, p in zip(y_true, y_pred) if t == p)\n",
    "        return correct / len(y_true)\n",
    "\n",
    "\n",
    "# Example usage \n",
    "y_true = [1, 0, 1, 1, 0]\n",
    "y_pred = [1, 0, 1, 0, 0]\n",
    "accuracy = MachinelearningModel.calculate_accuracy(y_true, y_pred)\n",
    "print(f\"Accuracy: {accuracy:.2f}\")"
   ]
  },
  {
   "cell_type": "code",
   "execution_count": 2,
   "metadata": {},
   "outputs": [
    {
     "name": "stdout",
     "output_type": "stream",
     "text": [
      "Total models created: <__main__.MachinelearningModel object at 0x000002585591BE80>\n"
     ]
    }
   ],
   "source": [
    "# 2. class method \n",
    "class MachineLearningModel: \n",
    "    model_count = 0 \n",
    "    \n",
    "    def __init__(self, model_name): \n",
    "        self.model_name = model_name \n",
    "        MachineLearningModel.model_count += 1 \n",
    "    \n",
    "    @classmethod\n",
    "    def get_mode_count(cls): \n",
    "        return cls.model_count \n",
    "\n",
    "# Example usage \n",
    "model1 = MachineLearningModel(\"Model A\")\n",
    "model2 = MachineLearningModel(\"Model B\")\n",
    "print(f\"Total models created: {MachinelearningModel()}\")"
   ]
  },
  {
   "cell_type": "code",
   "execution_count": 3,
   "metadata": {},
   "outputs": [
    {
     "name": "stdout",
     "output_type": "stream",
     "text": [
      "5\n",
      "deleting radius...\n"
     ]
    }
   ],
   "source": [
    "# 3. @property \n",
    "class Circle: \n",
    "    def __init__(self, radius): \n",
    "        self._radius = radius # Convention use an underscore for private attributution/.\n",
    "        \n",
    "    @property   # getter for the private value\n",
    "    def radius(self): \n",
    "        return self._radius \n",
    "    \n",
    "    @radius.setter \n",
    "    def radius(self, value): \n",
    "        if value <= 0: \n",
    "            raise ValueError(\"Radius must be positive.\")\n",
    "        self._radius = value \n",
    "    \n",
    "    @radius.deleter\n",
    "    def radius(self):\n",
    "        print(\"deleting radius...\")\n",
    "        del self._radius\n",
    "\n",
    "\n",
    "\n",
    "# usage \n",
    "c = Circle(5)\n",
    "print(c.radius)\n",
    "c.radius = 10 \n",
    "del c.radius "
   ]
  },
  {
   "cell_type": "code",
   "execution_count": 4,
   "metadata": {},
   "outputs": [
    {
     "name": "stdout",
     "output_type": "stream",
     "text": [
      "Training with lr=0.01, batch=32\n",
      "0.9335726224711206\n",
      "0.9335726224711206\n"
     ]
    }
   ],
   "source": [
    "# Functools.lru_cachce\n",
    "\n",
    "from functools import lru_cache\n",
    "import random\n",
    "\n",
    "@lru_cache(maxsize=50)\n",
    "def train_model(learning_rate, batch_size):\n",
    "    # Simulate expensive model training\n",
    "    print(f\"Training with lr={learning_rate}, batch={batch_size}\")\n",
    "    return random.uniform(0.8, 0.95)  # Mock accuracy\n",
    "\n",
    "# Usage\n",
    "print(train_model(0.01, 32))  # Trains and caches result\n",
    "print(train_model(0.01, 32))  # Retrieves result from cache\n"
   ]
  }
 ],
 "metadata": {
  "kernelspec": {
   "display_name": "transformer",
   "language": "python",
   "name": "python3"
  },
  "language_info": {
   "codemirror_mode": {
    "name": "ipython",
    "version": 3
   },
   "file_extension": ".py",
   "mimetype": "text/x-python",
   "name": "python",
   "nbconvert_exporter": "python",
   "pygments_lexer": "ipython3",
   "version": "3.10.12"
  }
 },
 "nbformat": 4,
 "nbformat_minor": 2
}
