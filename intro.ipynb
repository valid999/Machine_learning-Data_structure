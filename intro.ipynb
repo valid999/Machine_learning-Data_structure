{
 "cells": [
  {
   "cell_type": "code",
   "execution_count": 1,
   "metadata": {},
   "outputs": [],
   "source": [
    "def func(x): \n",
    "    if x == 1: \n",
    "        def rv(): \n",
    "            print(\"X is equal to 1\")\n",
    "    else: \n",
    "        def rv(): \n",
    "            print(\"X is not 1\")\n",
    "    return rv"
   ]
  },
  {
   "cell_type": "code",
   "execution_count": 2,
   "metadata": {},
   "outputs": [
    {
     "name": "stdout",
     "output_type": "stream",
     "text": [
      "Time\n",
      "10\n"
     ]
    }
   ],
   "source": [
    "def make_class(x): \n",
    "    class Dog: \n",
    "        def __init__(self, name): \n",
    "            self.name = name \n",
    "        def print_value(self): \n",
    "            print(x)\n",
    "    \n",
    "    return Dog \n",
    "\n",
    "cls = make_class(10) \n",
    "d = cls(\"Time\")\n",
    "print(d.name)\n",
    "d.print_value()"
   ]
  },
  {
   "cell_type": "code",
   "execution_count": 3,
   "metadata": {},
   "outputs": [
    {
     "name": "stdout",
     "output_type": "stream",
     "text": [
      "0\n",
      "2\n",
      "4\n",
      "6\n",
      "8\n",
      "10\n",
      "12\n",
      "14\n",
      "16\n",
      "18\n"
     ]
    }
   ],
   "source": [
    "for i in range(10): \n",
    "    def show(): \n",
    "        print(i*2)\n",
    "    \n",
    "    \n",
    "    show()"
   ]
  },
  {
   "cell_type": "code",
   "execution_count": 5,
   "metadata": {},
   "outputs": [
    {
     "name": "stdout",
     "output_type": "stream",
     "text": [
      "        def vr(): \n",
      "            print(\"X is equal to 1\")\n",
      "\n"
     ]
    }
   ],
   "source": [
    "import inspect \n",
    "\n",
    "\n",
    "def func(x): \n",
    "    if x == 1: \n",
    "        def vr(): \n",
    "            print(\"X is equal to 1\")\n",
    "    else: \n",
    "        def vr(): \n",
    "            print(\"X is not 1\")\n",
    "    \n",
    "    return vr\n",
    "\n",
    "\n",
    "new_func = func(1)\n",
    "print(inspect.getsource(new_func))"
   ]
  },
  {
   "cell_type": "code",
   "execution_count": 6,
   "metadata": {},
   "outputs": [
    {
     "name": "stdout",
     "output_type": "stream",
     "text": [
      "class Queue:\n",
      "    '''Create a queue object with a given maximum size.\n",
      "\n",
      "    If maxsize is <= 0, the queue size is infinite.\n",
      "    '''\n",
      "\n",
      "    def __init__(self, maxsize=0):\n",
      "        self.maxsize = maxsize\n",
      "        self._init(maxsize)\n",
      "\n",
      "        # mutex must be held whenever the queue is mutating.  All methods\n",
      "        # that acquire mutex must release it before returning.  mutex\n",
      "        # is shared between the three conditions, so acquiring and\n",
      "        # releasing the conditions also acquires and releases mutex.\n",
      "        self.mutex = threading.Lock()\n",
      "\n",
      "        # Notify not_empty whenever an item is added to the queue; a\n",
      "        # thread waiting to get is notified then.\n",
      "        self.not_empty = threading.Condition(self.mutex)\n",
      "\n",
      "        # Notify not_full whenever an item is removed from the queue;\n",
      "        # a thread waiting to put is notified then.\n",
      "        self.not_full = threading.Condition(self.mutex)\n",
      "\n",
      "        # Notify all_tasks_done whenever the number of unfinished tasks\n",
      "        # drops to zero; thread waiting to join() is notified to resume\n",
      "        self.all_tasks_done = threading.Condition(self.mutex)\n",
      "        self.unfinished_tasks = 0\n",
      "\n",
      "    def task_done(self):\n",
      "        '''Indicate that a formerly enqueued task is complete.\n",
      "\n",
      "        Used by Queue consumer threads.  For each get() used to fetch a task,\n",
      "        a subsequent call to task_done() tells the queue that the processing\n",
      "        on the task is complete.\n",
      "\n",
      "        If a join() is currently blocking, it will resume when all items\n",
      "        have been processed (meaning that a task_done() call was received\n",
      "        for every item that had been put() into the queue).\n",
      "\n",
      "        Raises a ValueError if called more times than there were items\n",
      "        placed in the queue.\n",
      "        '''\n",
      "        with self.all_tasks_done:\n",
      "            unfinished = self.unfinished_tasks - 1\n",
      "            if unfinished <= 0:\n",
      "                if unfinished < 0:\n",
      "                    raise ValueError('task_done() called too many times')\n",
      "                self.all_tasks_done.notify_all()\n",
      "            self.unfinished_tasks = unfinished\n",
      "\n",
      "    def join(self):\n",
      "        '''Blocks until all items in the Queue have been gotten and processed.\n",
      "\n",
      "        The count of unfinished tasks goes up whenever an item is added to the\n",
      "        queue. The count goes down whenever a consumer thread calls task_done()\n",
      "        to indicate the item was retrieved and all work on it is complete.\n",
      "\n",
      "        When the count of unfinished tasks drops to zero, join() unblocks.\n",
      "        '''\n",
      "        with self.all_tasks_done:\n",
      "            while self.unfinished_tasks:\n",
      "                self.all_tasks_done.wait()\n",
      "\n",
      "    def qsize(self):\n",
      "        '''Return the approximate size of the queue (not reliable!).'''\n",
      "        with self.mutex:\n",
      "            return self._qsize()\n",
      "\n",
      "    def empty(self):\n",
      "        '''Return True if the queue is empty, False otherwise (not reliable!).\n",
      "\n",
      "        This method is likely to be removed at some point.  Use qsize() == 0\n",
      "        as a direct substitute, but be aware that either approach risks a race\n",
      "        condition where a queue can grow before the result of empty() or\n",
      "        qsize() can be used.\n",
      "\n",
      "        To create code that needs to wait for all queued tasks to be\n",
      "        completed, the preferred technique is to use the join() method.\n",
      "        '''\n",
      "        with self.mutex:\n",
      "            return not self._qsize()\n",
      "\n",
      "    def full(self):\n",
      "        '''Return True if the queue is full, False otherwise (not reliable!).\n",
      "\n",
      "        This method is likely to be removed at some point.  Use qsize() >= n\n",
      "        as a direct substitute, but be aware that either approach risks a race\n",
      "        condition where a queue can shrink before the result of full() or\n",
      "        qsize() can be used.\n",
      "        '''\n",
      "        with self.mutex:\n",
      "            return 0 < self.maxsize <= self._qsize()\n",
      "\n",
      "    def put(self, item, block=True, timeout=None):\n",
      "        '''Put an item into the queue.\n",
      "\n",
      "        If optional args 'block' is true and 'timeout' is None (the default),\n",
      "        block if necessary until a free slot is available. If 'timeout' is\n",
      "        a non-negative number, it blocks at most 'timeout' seconds and raises\n",
      "        the Full exception if no free slot was available within that time.\n",
      "        Otherwise ('block' is false), put an item on the queue if a free slot\n",
      "        is immediately available, else raise the Full exception ('timeout'\n",
      "        is ignored in that case).\n",
      "        '''\n",
      "        with self.not_full:\n",
      "            if self.maxsize > 0:\n",
      "                if not block:\n",
      "                    if self._qsize() >= self.maxsize:\n",
      "                        raise Full\n",
      "                elif timeout is None:\n",
      "                    while self._qsize() >= self.maxsize:\n",
      "                        self.not_full.wait()\n",
      "                elif timeout < 0:\n",
      "                    raise ValueError(\"'timeout' must be a non-negative number\")\n",
      "                else:\n",
      "                    endtime = time() + timeout\n",
      "                    while self._qsize() >= self.maxsize:\n",
      "                        remaining = endtime - time()\n",
      "                        if remaining <= 0.0:\n",
      "                            raise Full\n",
      "                        self.not_full.wait(remaining)\n",
      "            self._put(item)\n",
      "            self.unfinished_tasks += 1\n",
      "            self.not_empty.notify()\n",
      "\n",
      "    def get(self, block=True, timeout=None):\n",
      "        '''Remove and return an item from the queue.\n",
      "\n",
      "        If optional args 'block' is true and 'timeout' is None (the default),\n",
      "        block if necessary until an item is available. If 'timeout' is\n",
      "        a non-negative number, it blocks at most 'timeout' seconds and raises\n",
      "        the Empty exception if no item was available within that time.\n",
      "        Otherwise ('block' is false), return an item if one is immediately\n",
      "        available, else raise the Empty exception ('timeout' is ignored\n",
      "        in that case).\n",
      "        '''\n",
      "        with self.not_empty:\n",
      "            if not block:\n",
      "                if not self._qsize():\n",
      "                    raise Empty\n",
      "            elif timeout is None:\n",
      "                while not self._qsize():\n",
      "                    self.not_empty.wait()\n",
      "            elif timeout < 0:\n",
      "                raise ValueError(\"'timeout' must be a non-negative number\")\n",
      "            else:\n",
      "                endtime = time() + timeout\n",
      "                while not self._qsize():\n",
      "                    remaining = endtime - time()\n",
      "                    if remaining <= 0.0:\n",
      "                        raise Empty\n",
      "                    self.not_empty.wait(remaining)\n",
      "            item = self._get()\n",
      "            self.not_full.notify()\n",
      "            return item\n",
      "\n",
      "    def put_nowait(self, item):\n",
      "        '''Put an item into the queue without blocking.\n",
      "\n",
      "        Only enqueue the item if a free slot is immediately available.\n",
      "        Otherwise raise the Full exception.\n",
      "        '''\n",
      "        return self.put(item, block=False)\n",
      "\n",
      "    def get_nowait(self):\n",
      "        '''Remove and return an item from the queue without blocking.\n",
      "\n",
      "        Only get an item if one is immediately available. Otherwise\n",
      "        raise the Empty exception.\n",
      "        '''\n",
      "        return self.get(block=False)\n",
      "\n",
      "    # Override these methods to implement other queue organizations\n",
      "    # (e.g. stack or priority queue).\n",
      "    # These will only be called with appropriate locks held\n",
      "\n",
      "    # Initialize the queue representation\n",
      "    def _init(self, maxsize):\n",
      "        self.queue = deque()\n",
      "\n",
      "    def _qsize(self):\n",
      "        return len(self.queue)\n",
      "\n",
      "    # Put a new item in the queue\n",
      "    def _put(self, item):\n",
      "        self.queue.append(item)\n",
      "\n",
      "    # Get an item from the queue\n",
      "    def _get(self):\n",
      "        return self.queue.popleft()\n",
      "\n",
      "    __class_getitem__ = classmethod(types.GenericAlias)\n",
      "\n"
     ]
    }
   ],
   "source": [
    "from queue import Queue \n",
    "\n",
    "print(inspect.getsource(Queue))"
   ]
  },
  {
   "cell_type": "code",
   "execution_count": 9,
   "metadata": {},
   "outputs": [
    {
     "name": "stdout",
     "output_type": "stream",
     "text": [
      "tim\n"
     ]
    }
   ],
   "source": [
    "# Dundar method \n",
    "\n",
    "\n",
    "class Person: \n",
    "    def __init__(self, name):\n",
    "        self.name = name \n",
    "    \n",
    "    \n",
    "    # def __repr__()\n",
    "\n",
    "P = Person(\"tim\")\n",
    "print(P.name)"
   ]
  },
  {
   "cell_type": "code",
   "execution_count": 13,
   "metadata": {},
   "outputs": [
    {
     "name": "stdout",
     "output_type": "stream",
     "text": [
      "Called tgeis function (4,) {}\n"
     ]
    }
   ],
   "source": [
    "class Person: \n",
    "    def __init__(self, name): \n",
    "        self.name = name \n",
    "    \n",
    "    \n",
    "    def __repr__(self): \n",
    "        return f\"Person({self.name})\"\n",
    "    \n",
    "    def __mul__(self, x): \n",
    "        if type(x) is not int: \n",
    "            raise Exception(\"Invlaid argument, must be int\")\n",
    "        \n",
    "        self.name  = self.name * x\n",
    "    \n",
    "    \n",
    "    def __call__(self, *args, **kwds):\n",
    "        print(\"Called tgeis function\", args, kwds)\n",
    "    \n",
    "    \n",
    "    def __len__(self): \n",
    "        return len(self.name)\n",
    "\n",
    "P = Person(\"tim\")\n",
    "P(4)"
   ]
  },
  {
   "cell_type": "code",
   "execution_count": 14,
   "metadata": {},
   "outputs": [
    {
     "name": "stdout",
     "output_type": "stream",
     "text": [
      "<queue.Queue object at 0x000001A34E3F1970>\n"
     ]
    }
   ],
   "source": [
    "from queue import Queue \n",
    "import inspect \n",
    "\n",
    "q = Queue()\n",
    "print(q)"
   ]
  },
  {
   "cell_type": "code",
   "execution_count": 16,
   "metadata": {},
   "outputs": [
    {
     "name": "stdout",
     "output_type": "stream",
     "text": [
      "Queue(0)\n"
     ]
    }
   ],
   "source": [
    "from queue import Queue as q \n",
    "import inspect \n",
    "\n",
    "class Queue(q): \n",
    "    def __repr__(self): \n",
    "        return f\"Queue({self._qsize()})\"\n",
    "\n",
    "qu = Queue()\n",
    "print(qu)"
   ]
  },
  {
   "cell_type": "code",
   "execution_count": 1,
   "metadata": {},
   "outputs": [
    {
     "name": "stdout",
     "output_type": "stream",
     "text": [
      "Queue(1)\n"
     ]
    }
   ],
   "source": [
    "from queue import Queue as q \n",
    "import inspect \n",
    "\n",
    "class Queue(q): \n",
    "    def __repr__(self): \n",
    "        return f\"Queue({self._qsize()})\"\n",
    "    \n",
    "    def __add__(self, item): \n",
    "        self.put(item)\n",
    "    \n",
    "    def __sub__(self, item): \n",
    "        self.get()\n",
    "\n",
    "\n",
    "qu = Queue()\n",
    "qu + 9 \n",
    "qu + 7 \n",
    "qu - None \n",
    "print(qu)"
   ]
  },
  {
   "cell_type": "code",
   "execution_count": 2,
   "metadata": {},
   "outputs": [
    {
     "ename": "NameError",
     "evalue": "name 'Hi' is not defined",
     "output_type": "error",
     "traceback": [
      "\u001b[1;31m---------------------------------------------------------------------------\u001b[0m",
      "\u001b[1;31mNameError\u001b[0m                                 Traceback (most recent call last)",
      "Cell \u001b[1;32mIn[2], line 6\u001b[0m\n\u001b[0;32m      3\u001b[0m         \u001b[38;5;28;01mpass\u001b[39;00m \n\u001b[0;32m      4\u001b[0m     \u001b[38;5;28;01mreturn\u001b[39;00m Hi \n\u001b[1;32m----> 6\u001b[0m \u001b[43mHi\u001b[49m()\n",
      "\u001b[1;31mNameError\u001b[0m: name 'Hi' is not defined"
     ]
    }
   ],
   "source": [
    "def hello(): \n",
    "    class Hi: \n",
    "        pass \n",
    "    return Hi \n",
    "\n",
    "Hi()"
   ]
  },
  {
   "cell_type": "code",
   "execution_count": 3,
   "metadata": {},
   "outputs": [
    {
     "name": "stdout",
     "output_type": "stream",
     "text": [
      "<class '__main__.Test'>\n",
      "<__main__.Test object at 0x000002449300D0A0>\n"
     ]
    }
   ],
   "source": [
    "class Test: \n",
    "    pass \n",
    "\n",
    "print(Test)\n",
    "print(Test())"
   ]
  },
  {
   "cell_type": "code",
   "execution_count": 4,
   "metadata": {},
   "outputs": [
    {
     "name": "stdout",
     "output_type": "stream",
     "text": [
      "hello\n"
     ]
    }
   ],
   "source": [
    "Test  = type(\"Test\", (), {\"x\":5})\n",
    "t = Test()\n",
    "t.wy = \"hello\"\n",
    "print(t.wy)"
   ]
  },
  {
   "cell_type": "code",
   "execution_count": 5,
   "metadata": {},
   "outputs": [
    {
     "name": "stdout",
     "output_type": "stream",
     "text": [
      "9\n"
     ]
    }
   ],
   "source": [
    "class Foo: \n",
    "    def show(self): \n",
    "        print(\"hi\")\n",
    "\n",
    "def add_attribute(self): \n",
    "    self.z  = 9\n",
    "\n",
    "Test = type('Test', (Foo,), {\"x\":5, \"add_attribute\": add_attribute})\n",
    "t = Test()\n",
    "t.add_attribute()\n",
    "print(t.z)"
   ]
  },
  {
   "cell_type": "code",
   "execution_count": 6,
   "metadata": {},
   "outputs": [
    {
     "name": "stdout",
     "output_type": "stream",
     "text": [
      "{'__module__': '__main__', '__qualname__': 'Dog', 'x': 5, 'y': 8}\n"
     ]
    }
   ],
   "source": [
    "class Meta(type): \n",
    "    def __new__(self, class_name, bases, attrs): \n",
    "        print(attrs)\n",
    "        \n",
    "        return type(class_name, bases, attrs)\n",
    "\n",
    "class Dog(metaclass=Meta): \n",
    "    x = 5 \n",
    "    y = 8 \n",
    "\n",
    "d = Dog()"
   ]
  },
  {
   "cell_type": "code",
   "execution_count": 9,
   "metadata": {},
   "outputs": [
    {
     "name": "stdout",
     "output_type": "stream",
     "text": [
      "{'__module__': '__main__', '__qualname__': 'Dog', 'x': 5, 'y': 8, 'hello': <function Dog.hello at 0x00000244945C0280>}\n",
      "hi\n",
      "None\n"
     ]
    }
   ],
   "source": [
    "class Meta(type): \n",
    "    def __new__(self, class_name, bases, attrs): \n",
    "        print(attrs)\n",
    "        \n",
    "        a = {}\n",
    "        for name , val in attrs.items(): \n",
    "            if name.startswith(\"__\"): \n",
    "                a[name] = val\n",
    "            else: \n",
    "                a[name.upper()] = val \n",
    "        return type(class_name, bases, a)\n",
    "\n",
    "\n",
    "\n",
    "class Dog(metaclass=Meta): \n",
    "    x = 5 \n",
    "    y = 8 \n",
    "    \n",
    "    def hello(self): \n",
    "        print(\"hi\")\n",
    "\n",
    "\n",
    "d = Dog()\n",
    "print(d.HELLO())"
   ]
  },
  {
   "cell_type": "code",
   "execution_count": 10,
   "metadata": {},
   "outputs": [
    {
     "name": "stdout",
     "output_type": "stream",
     "text": [
      "Creating class MyClass\n",
      "Hello from MyClass\n"
     ]
    }
   ],
   "source": [
    "# Defining a metclass \n",
    "class Meta(type): \n",
    "    def __new__(cls, name, bases, dct): \n",
    "        print(f\"Creating class {name}\")\n",
    "        dct['great'] = lambda self: f\"Hello from {name}\"\n",
    "        return super().__new__(cls, name, bases, dct)\n",
    "\n",
    "class MyClass(metaclass=Meta): \n",
    "    pass\n",
    "\n",
    "\n",
    "# Using the metaclass \n",
    "obj = MyClass()\n",
    "print(obj.great())"
   ]
  },
  {
   "cell_type": "code",
   "execution_count": 11,
   "metadata": {},
   "outputs": [
    {
     "name": "stdout",
     "output_type": "stream",
     "text": [
      "Hello, world!\n"
     ]
    }
   ],
   "source": [
    "# creating a class dynamically using type\n",
    "Myclass = type('MyClass', (), {'greet': lambda self: \"Hello, world!\"})\n",
    "obj = Myclass()\n",
    "print(obj.greet())"
   ]
  },
  {
   "cell_type": "code",
   "execution_count": 12,
   "metadata": {},
   "outputs": [
    {
     "name": "stdout",
     "output_type": "stream",
     "text": [
      "<function func.<locals>.wrapper at 0x00000244945C0040>\n",
      "started\n",
      "I am func3\n",
      "Ended\n",
      "started\n",
      "I am func2\n",
      "Ended\n"
     ]
    }
   ],
   "source": [
    "def func(f): \n",
    "    def wrapper(): \n",
    "        print(\"started\")\n",
    "        f()\n",
    "        print(\"Ended\")\n",
    "    return wrapper \n",
    "\n",
    "\n",
    "def func2(): \n",
    "    print(\"I am func2\")\n",
    "\n",
    "def func3(): \n",
    "    print(\"I am func3\")\n",
    "\n",
    "\n",
    "x = func(func3)\n",
    "y = func(func2)\n",
    "print(x)\n",
    "x()\n",
    "y() "
   ]
  }
 ],
 "metadata": {
  "kernelspec": {
   "display_name": "Yolo_object",
   "language": "python",
   "name": "python3"
  },
  "language_info": {
   "codemirror_mode": {
    "name": "ipython",
    "version": 3
   },
   "file_extension": ".py",
   "mimetype": "text/x-python",
   "name": "python",
   "nbconvert_exporter": "python",
   "pygments_lexer": "ipython3",
   "version": "3.9.18"
  }
 },
 "nbformat": 4,
 "nbformat_minor": 2
}
